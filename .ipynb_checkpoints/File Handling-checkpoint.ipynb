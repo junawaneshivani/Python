{
 "cells": [
  {
   "cell_type": "code",
   "execution_count": 1,
   "metadata": {},
   "outputs": [],
   "source": [
    "import sys\n",
    "import os.path"
   ]
  },
  {
   "cell_type": "code",
   "execution_count": 6,
   "metadata": {},
   "outputs": [
    {
     "name": "stdout",
     "output_type": "stream",
     "text": [
      "git_basics.txt\n"
     ]
    }
   ],
   "source": [
    "filename = \"git basics.txt\"\n",
    "print (filename)"
   ]
  },
  {
   "cell_type": "code",
   "execution_count": 10,
   "metadata": {},
   "outputs": [
    {
     "name": "stdout",
     "output_type": "stream",
     "text": [
      " No such file found\n"
     ]
    }
   ],
   "source": [
    "# file handling\n",
    "if os.path.exists(filename):\n",
    "    wordDict = {}\n",
    "    f = open(filename,'r') # a-append , w-write, append'b' for binary\n",
    "    wordList = f.read().split()\n",
    "    \n",
    "    for word in wordList:\n",
    "        if word in wordDict.keys():\n",
    "            wordDict[word] += 1\n",
    "        else:\n",
    "            wordDict[word] = 1\n",
    "            \n",
    "    f.close() #always remember to close file\n",
    "    newFilename = filename + \".wc\"\n",
    "    f = open(newFilename ,'w')\n",
    "    for key,val in wordDict.items():\n",
    "        f.write(\"%s ==> %d\\n\" % (key,val))\n",
    "    f.close()\n",
    "else:\n",
    "    print(\" No such file found\")"
   ]
  },
  {
   "cell_type": "code",
   "execution_count": null,
   "metadata": {},
   "outputs": [],
   "source": []
  }
 ],
 "metadata": {
  "kernelspec": {
   "display_name": "Python 3",
   "language": "python",
   "name": "python3"
  },
  "language_info": {
   "codemirror_mode": {
    "name": "ipython",
    "version": 3
   },
   "file_extension": ".py",
   "mimetype": "text/x-python",
   "name": "python",
   "nbconvert_exporter": "python",
   "pygments_lexer": "ipython3",
   "version": "3.7.4"
  }
 },
 "nbformat": 4,
 "nbformat_minor": 2
}
