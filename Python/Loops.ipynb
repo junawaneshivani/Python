{
 "cells": [
  {
   "cell_type": "code",
   "execution_count": 1,
   "metadata": {},
   "outputs": [
    {
     "name": "stdout",
     "output_type": "stream",
     "text": [
      " Enter number: 24\n",
      " Even\n"
     ]
    }
   ],
   "source": [
    "# even or odd\n",
    "num = int(input(\" Enter number: \"))\n",
    "if num%2==0:\n",
    "    print (\" Even\")\n",
    "else:\n",
    "    print (\" Odd\")"
   ]
  },
  {
   "cell_type": "code",
   "execution_count": 3,
   "metadata": {},
   "outputs": [
    {
     "name": "stdout",
     "output_type": "stream",
     "text": [
      " Enter your numbers, enter 'stop' when done \n",
      " Enter number 1\n",
      " Enter number 2\n",
      " Enter number 3\n",
      " Enter number 4\n",
      " Enter number 5\n",
      " Enter number stop\n",
      " Average of 5 numbers is 3.000000\n"
     ]
    }
   ],
   "source": [
    "# avg of N numbers\n",
    "print (\" Enter your numbers, enter 'stop' when done \")\n",
    "li = []\n",
    "while(True):\n",
    "    user_input = input(\" Enter number \")\n",
    "    if user_input.lower()!='stop':\n",
    "        li.append(int(user_input))\n",
    "    else:\n",
    "        break\n",
    "sum = 0\n",
    "for x in li:\n",
    "    sum += x\n",
    "print( \" Average of %d numbers is %f\" % (len(li) , sum/len(li) ) )\n",
    "\n",
    "# general form of range is range(start = 0,end+1,step=1)\n",
    "# range in python 3 is a generator functon"
   ]
  },
  {
   "cell_type": "code",
   "execution_count": 4,
   "metadata": {},
   "outputs": [
    {
     "name": "stdout",
     "output_type": "stream",
     "text": [
      " list[0] = 11\n",
      " list[1] = 22\n",
      " list[2] = 33\n",
      " list[3] = 44\n"
     ]
    }
   ],
   "source": [
    "# enumerate\n",
    "numbers = [11,22,33,44]\n",
    "for i,num in enumerate(numbers):\n",
    "    print(\" list[%d] = %d\" % (i,num) )"
   ]
  },
  {
   "cell_type": "code",
   "execution_count": 5,
   "metadata": {},
   "outputs": [
    {
     "name": "stdout",
     "output_type": "stream",
     "text": [
      "1 11\n",
      "2 22\n",
      "3 33\n",
      "4 44\n"
     ]
    }
   ],
   "source": [
    "# zip with same length\n",
    "seq1 = [1,2,3,4]\n",
    "seq2 = [11,22,33,44]\n",
    "for i,j in zip(seq1,seq2):\n",
    "    print(\"%d %d\" % (i,j))"
   ]
  },
  {
   "cell_type": "code",
   "execution_count": 9,
   "metadata": {},
   "outputs": [
    {
     "name": "stdout",
     "output_type": "stream",
     "text": [
      "1 11\n",
      "2 22\n",
      "3 33\n",
      "4 44\n",
      "11 1\n",
      "22 2\n",
      "33 3\n",
      "44 4\n"
     ]
    }
   ],
   "source": [
    "# zip with different length\n",
    "seq1 = [1,2,3,4]\n",
    "seq2 = [11,22,33,44,55,66]\n",
    "for i,j in zip(seq1,seq2):\n",
    "    print(\"%d %d\" % (i,j))\n",
    "for i,j in zip(seq2,seq1):\n",
    "    print(\"%d %d\" % (i,j))"
   ]
  },
  {
   "cell_type": "code",
   "execution_count": 10,
   "metadata": {},
   "outputs": [
    {
     "name": "stdout",
     "output_type": "stream",
     "text": [
      "{'name': 'shivani', 'age': 20}\n"
     ]
    }
   ],
   "source": [
    "# dictionary\n",
    "a = {'name':'shivani','age':20}\n",
    "print (a)"
   ]
  },
  {
   "cell_type": "code",
   "execution_count": null,
   "metadata": {},
   "outputs": [],
   "source": []
  }
 ],
 "metadata": {
  "kernelspec": {
   "display_name": "Python 3",
   "language": "python",
   "name": "python3"
  },
  "language_info": {
   "codemirror_mode": {
    "name": "ipython",
    "version": 3
   },
   "file_extension": ".py",
   "mimetype": "text/x-python",
   "name": "python",
   "nbconvert_exporter": "python",
   "pygments_lexer": "ipython3",
   "version": "3.7.4"
  }
 },
 "nbformat": 4,
 "nbformat_minor": 2
}
