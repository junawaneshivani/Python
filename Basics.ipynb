{
 "cells": [
  {
   "attachments": {
    "image.png": {
     "image/png": "[encoded data removed]"
    }
   },
   "cell_type": "markdown",
   "metadata": {},
   "source": [
    "![image.png](attachment:image.png)"
   ]
  },
  {
   "cell_type": "code",
   "execution_count": 7,
   "metadata": {},
   "outputs": [
    {
     "name": "stdout",
     "output_type": "stream",
     "text": [
      "Yep. This can be done. Let's get started !!!\n"
     ]
    }
   ],
   "source": [
    "print(\"Yep. This can be done. Let's get started !!!\")"
   ]
  },
  {
   "cell_type": "code",
   "execution_count": 12,
   "metadata": {},
   "outputs": [
    {
     "name": "stdout",
     "output_type": "stream",
     "text": [
      "Hello|World\n",
      "Hello|World\n"
     ]
    }
   ],
   "source": [
    "# Printing on screen\n",
    "print (\"Hello\", \"World\" , sep = '|') #separation done by | instead of spaces\n",
    "print (\"Hello\", end=\"|\") #end line with | instead of '\\n'\n",
    "print (\"World\")"
   ]
  },
  {
   "cell_type": "code",
   "execution_count": 13,
   "metadata": {},
   "outputs": [
    {
     "name": "stdout",
     "output_type": "stream",
     "text": [
      " 5 + 2 =  7\n",
      " 5 - 2 =  3\n",
      " 5 * 2 =  10\n",
      " 5 / 2 =  2.5\n",
      " 5 // 2 =  2\n",
      " 5 ** 2 =  25\n",
      " 5 % 2 =  1\n"
     ]
    }
   ],
   "source": [
    "# Arithmetic Operations\n",
    "print (\" 5 + 2 = \" , 5 + 2) # by default ends with new line\n",
    "print (\" 5 - 2 = \" , 5 - 2)\n",
    "print (\" 5 * 2 = \" , 5 * 2)\n",
    "print (\" 5 / 2 = \" , 5 / 2)\n",
    "print (\" 5 // 2 = \" , 5 // 2) # integer division\n",
    "print (\" 5 ** 2 = \" , 5 ** 2) # square\n",
    "print (\" 5 % 2 = \" , 5 % 2)"
   ]
  },
  {
   "cell_type": "code",
   "execution_count": 11,
   "metadata": {},
   "outputs": [
    {
     "name": "stdout",
     "output_type": "stream",
     "text": [
      "<class 'int'>\n",
      "<class 'float'>\n",
      "5.0\n"
     ]
    }
   ],
   "source": [
    "# one way to check type of variables\n",
    "print (type(a))\n",
    "print (type(b))\n",
    "\n",
    "# u can also typecast \n",
    "print (float(a))"
   ]
  },
  {
   "cell_type": "code",
   "execution_count": 18,
   "metadata": {},
   "outputs": [
    {
     "name": "stdout",
     "output_type": "stream",
     "text": [
      "shivani\n",
      "shivani\n",
      "shivani\n",
      "         junawane\n"
     ]
    }
   ],
   "source": [
    "# 3 methods of declaring strings\n",
    "str1 = \"shivani\"\n",
    "str2 = 'shivani'\n",
    "str3 = '''shivani\n",
    "         junawane'''\n",
    "print (str1)\n",
    "print (str2)\n",
    "print (str3)\n"
   ]
  },
  {
   "cell_type": "code",
   "execution_count": 21,
   "metadata": {},
   "outputs": [
    {
     "name": "stdout",
     "output_type": "stream",
     "text": [
      "26.234\n",
      " 2.420\n",
      " 2.420 ,  26.234\n"
     ]
    }
   ],
   "source": [
    "# %6.3 f ==> 6 = total digits, 3 = digits after dot\n",
    "result1 = 26.234378\n",
    "result2 = 2.42\n",
    "print ('%6.3f' % result1)\n",
    "print ('%6.3f' % result2)\n",
    "print ( '{1:6.3f} ,  {0:6.3f}'.format(result1,result2) )"
   ]
  },
  {
   "cell_type": "code",
   "execution_count": 25,
   "metadata": {},
   "outputs": [
    {
     "name": "stdout",
     "output_type": "stream",
     "text": [
      "dlrow olleh\n",
      "dlrow olleh\n",
      "ell\n"
     ]
    }
   ],
   "source": [
    "a = \"hello world\"\n",
    "print(a[::-1]) # reverse of string\n",
    "print(a[-1::-1]) # also reversing a string [start, end, step]\n",
    "print(a[1:4]) # excluding index 4"
   ]
  },
  {
   "cell_type": "markdown",
   "metadata": {},
   "source": [
    " # Git Basics \n",
    " \n",
    "Download and install git\n",
    " \n",
    "## Basic git \n",
    "\n",
    "```\n",
    "$ git --version: knowing ur current # git version\n",
    "$ git config --global user.name \"Shivani Junawane\" # change username in config file globally\n",
    "$ git config --global user.email \"junawaneshivani@gmail.com\" # remove --global for local changes\n",
    "\n",
    "$ git config --list\n",
    "$ git config user.email\n",
    "$ git help\n",
    "$ git help <command>\n",
    "```\n",
    "    \n",
    "## Starting a git project\n",
    "\n",
    "```\n",
    "$ cd <project folder>\n",
    "$ git init # Creates a git repository - no files added\n",
    "$ git add . # Adds all files in folder to staging area.. changes can be seen in the project but are not commited yet.\n",
    "$ git add filename # Adds specific file in folder to git repository\n",
    "$ git commit -m \"message\" # Commits to revert back to this point when needed\n",
    "$ git log # Gives a log of all commits\n",
    "$ git log --author=\"name\" # eg name can be shivani --- to search a person's commit form all commits\n",
    "$ git status # Status of any changes after last commit\n",
    "```\n",
    "\n",
    "## Working with project \n",
    "\n",
    "working area > staging area > repository\n",
    "file creaton in folder >  git add >  git commit\n",
    "\n",
    "```\n",
    "$ git diff # Shows modifications to files in working copy and repository copy, staging area files are not shown\n",
    "$ git diff -- staged # Compares files in staging area in repository\n",
    "\n",
    "$ git rm <filename> $ Removes file from working directory and transfers to staging area, we need to commit after that\n",
    "``` \n",
    "\n",
    "After u rename a file from working directory\n",
    "\n",
    "```\n",
    "$ git add <newname>\n",
    "$ git rm <oldname>\n",
    "$ git commit\n",
    "\n",
    "$ git mv <src> <dest> #it just renames src with destirrespective of whether the src and dest is in same folder or not\n",
    "\n",
    "$ git commit -am \"message\" # it commits all files from working copy to repository. USE WITH CAUTION - no staging area\n",
    "\n",
    "$ git checkout --<filename> # take someting from ur repository and make ur working copy\n",
    "\t\t\n",
    "$ git reset HEAD <filename> # remove filename from staging area\n",
    "\t\n",
    "\n",
    "first OK\n",
    "first > second OK\n",
    "first > second > third XXXXXX - ERROR\n",
    "first > second > third > second OK   -- not to delete third jus revert back\n",
    "\t\n",
    "\n",
    "$ git log\n",
    "$ git checkout <commit no> --<filename>\t# copies files to working copy\n",
    "$ git commit\t# done in repository as well\n",
    "```\n",
    "\n",
    "## Cloning to github account\n",
    "\n",
    "```\n",
    "$ git remote add <name for github project> https://github.com/junawaneshivani/Python.git\n",
    "$ git remote <name for github project>\n",
    "$ git push -u <name for github project> # type username and password , then it will upload to github online\n",
    "```\n",
    "    \n",
    "after forking\n",
    "```\n",
    "$git clone <ssh url>\n",
    "$ git commit\n",
    "$ git push\n",
    "```"
   ]
  },
  {
   "cell_type": "code",
   "execution_count": null,
   "metadata": {},
   "outputs": [],
   "source": []
  }
 ],
 "metadata": {
  "kernelspec": {
   "display_name": "Python 3",
   "language": "python",
   "name": "python3"
  },
  "language_info": {
   "codemirror_mode": {
    "name": "ipython",
    "version": 3
   },
   "file_extension": ".py",
   "mimetype": "text/x-python",
   "name": "python",
   "nbconvert_exporter": "python",
   "pygments_lexer": "ipython3",
   "version": "3.7.4"
  }
 },
 "nbformat": 4,
 "nbformat_minor": 2
}
