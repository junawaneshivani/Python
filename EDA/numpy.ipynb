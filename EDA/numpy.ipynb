{
  "nbformat": 4,
  "nbformat_minor": 0,
  "metadata": {
    "colab": {
      "name": "numpy.ipynb",
      "provenance": [],
      "collapsed_sections": [],
      "authorship_tag": "ABX9TyMEIwwckYf0dMsNxCHAH3z8",
      "include_colab_link": true
    },
    "kernelspec": {
      "name": "python3",
      "display_name": "Python 3"
    }
  },
  "cells": [
    {
      "cell_type": "markdown",
      "metadata": {
        "id": "view-in-github",
        "colab_type": "text"
      },
      "source": [
        "<a href=\"https://colab.research.google.com/github/junawaneshivani/Python/blob/master/EDA/numpy.ipynb\" target=\"_parent\"><img src=\"https://colab.research.google.com/assets/colab-badge.svg\" alt=\"Open In Colab\"/></a>"
      ]
    },
    {
      "cell_type": "code",
      "metadata": {
        "id": "FDWdojyucq83"
      },
      "source": [
        "import numpy as np"
      ],
      "execution_count": 1,
      "outputs": []
    },
    {
      "cell_type": "code",
      "metadata": {
        "colab": {
          "base_uri": "https://localhost:8080/"
        },
        "id": "MD1Y-LOYcuHb",
        "outputId": "942ec4d8-30c9-42df-e5eb-f7944011d2e0"
      },
      "source": [
        "# 1D array\r\n",
        "one_d_array = np.array([1, 2, 3, 4])\r\n",
        "print(\"Data:\", one_d_array.data)\r\n",
        "print(\"Shape:\", one_d_array.shape)\r\n",
        "print(\"Len:\", len(one_d_array)) # no of elements in 1st dimension\r\n",
        "print(\"Dtype:\", one_d_array.dtype)\r\n",
        "print(\"Strides:\", one_d_array.strides)\r\n",
        "print(\"Array:\", one_d_array)"
      ],
      "execution_count": 21,
      "outputs": [
        {
          "output_type": "stream",
          "text": [
            "Data: <memory at 0x7ff72dd27108>\n",
            "Shape: (4,)\n",
            "Len: 4\n",
            "Dtype: int64\n",
            "Strides: (8,)\n",
            "Array: [1 2 3 4]\n"
          ],
          "name": "stdout"
        }
      ]
    },
    {
      "cell_type": "code",
      "metadata": {
        "colab": {
          "base_uri": "https://localhost:8080/"
        },
        "id": "fqNKC499dbkG",
        "outputId": "f3dcf7b9-7c08-49bf-b61c-be063a4c8048"
      },
      "source": [
        "# 2D array\r\n",
        "two_d_array = np.array([[1, 2,], \r\n",
        "                        [3, 4]])\r\n",
        "print(\"Shape:\", two_d_array.shape)\r\n",
        "print(\"Len:\", len(two_d_array)) # no of elements in 1st dimension\r\n",
        "print(\"Dtype:\", two_d_array.dtype)\r\n",
        "print(\"Strides:\", two_d_array.strides)\r\n",
        "print(\"Array:\", two_d_array)"
      ],
      "execution_count": 22,
      "outputs": [
        {
          "output_type": "stream",
          "text": [
            "Shape: (2, 2)\n",
            "Len: 2\n",
            "Dtype: int64\n",
            "Strides: (16, 8)\n",
            "Array: [[1 2]\n",
            " [3 4]]\n"
          ],
          "name": "stdout"
        }
      ]
    },
    {
      "cell_type": "code",
      "metadata": {
        "colab": {
          "base_uri": "https://localhost:8080/"
        },
        "id": "Sv9s3bDJdypB",
        "outputId": "0da89936-980a-4644-8cf0-168cf12953b9"
      },
      "source": [
        "# 3D array\r\n",
        "three_d_array = np.array([\r\n",
        "                          [[1, 2], [3, 4]], \r\n",
        "                          [[5, 6], [7, 8]]\r\n",
        "                        ])\r\n",
        "print(three_d_array.shape)\r\n",
        "print(len(three_d_array)) # no of elements in 1st dimension\r\n",
        "print(three_d_array)"
      ],
      "execution_count": 15,
      "outputs": [
        {
          "output_type": "stream",
          "text": [
            "(2, 2, 2)\n",
            "2\n",
            "[[[1 2]\n",
            "  [3 4]]\n",
            "\n",
            " [[5 6]\n",
            "  [7 8]]]\n"
          ],
          "name": "stdout"
        }
      ]
    },
    {
      "cell_type": "code",
      "metadata": {
        "id": "CElJmvz8eRuD"
      },
      "source": [
        ""
      ],
      "execution_count": null,
      "outputs": []
    }
  ]
}