{
  "nbformat": 4,
  "nbformat_minor": 0,
  "metadata": {
    "colab": {
      "name": "numpy.ipynb",
      "provenance": [],
      "collapsed_sections": [],
      "authorship_tag": "ABX9TyONHEKK60gxIJya0aX95fO7",
      "include_colab_link": true
    },
    "kernelspec": {
      "name": "python3",
      "display_name": "Python 3"
    }
  },
  "cells": [
    {
      "cell_type": "markdown",
      "metadata": {
        "id": "view-in-github",
        "colab_type": "text"
      },
      "source": [
        "<a href=\"https://colab.research.google.com/github/junawaneshivani/Python/blob/master/EDA/numpy.ipynb\" target=\"_parent\"><img src=\"https://colab.research.google.com/assets/colab-badge.svg\" alt=\"Open In Colab\"/></a>"
      ]
    },
    {
      "cell_type": "code",
      "metadata": {
        "id": "FDWdojyucq83"
      },
      "source": [
        "import numpy as np"
      ],
      "execution_count": 2,
      "outputs": []
    },
    {
      "cell_type": "code",
      "metadata": {
        "colab": {
          "base_uri": "https://localhost:8080/"
        },
        "id": "MD1Y-LOYcuHb",
        "outputId": "15e0610d-ac54-4675-f942-3eb0d6761e01"
      },
      "source": [
        "# 1D array\r\n",
        "one_d_array = np.array([1, 2, 3, 4])\r\n",
        "print(\"Data:\", one_d_array.data)\r\n",
        "print(\"Shape:\", one_d_array.shape)\r\n",
        "print(\"Len:\", len(one_d_array)) # no of elements in 1st dimension\r\n",
        "print(\"Dtype:\", one_d_array.dtype)\r\n",
        "print(\"Strides:\", one_d_array.strides) \r\n",
        "# The strides of an array tell us how many bytes we have to\r\n",
        "# skip in memory to move to the next position along a certain axis. \r\n",
        "print(\"Array:\", one_d_array)"
      ],
      "execution_count": 3,
      "outputs": [
        {
          "output_type": "stream",
          "text": [
            "Data: <memory at 0x7f232fddfc48>\n",
            "Shape: (4,)\n",
            "Len: 4\n",
            "Dtype: int64\n",
            "Strides: (8,)\n",
            "Array: [1 2 3 4]\n"
          ],
          "name": "stdout"
        }
      ]
    },
    {
      "cell_type": "code",
      "metadata": {
        "colab": {
          "base_uri": "https://localhost:8080/"
        },
        "id": "fqNKC499dbkG",
        "outputId": "9995e1e5-f711-4efa-b8d8-65c98cc0552c"
      },
      "source": [
        "# 2D array\r\n",
        "two_d_array = np.array([[1, 2,], \r\n",
        "                        [3, 4]])\r\n",
        "print(\"Data:\", two_d_array.data)\r\n",
        "print(\"Shape:\", two_d_array.shape)\r\n",
        "print(\"Len:\", len(two_d_array)) # no of elements in 1st dimension\r\n",
        "print(\"Dtype:\", two_d_array.dtype)\r\n",
        "print(\"Strides:\", two_d_array.strides)\r\n",
        "print(\"Array:\", two_d_array)"
      ],
      "execution_count": 5,
      "outputs": [
        {
          "output_type": "stream",
          "text": [
            "Data: <memory at 0x7f232fd91708>\n",
            "Shape: (2, 2)\n",
            "Len: 2\n",
            "Dtype: int64\n",
            "Strides: (16, 8)\n",
            "Array: [[1 2]\n",
            " [3 4]]\n"
          ],
          "name": "stdout"
        }
      ]
    },
    {
      "cell_type": "code",
      "metadata": {
        "colab": {
          "base_uri": "https://localhost:8080/"
        },
        "id": "Sv9s3bDJdypB",
        "outputId": "51853181-a781-4bd5-e06b-34adeea8f105"
      },
      "source": [
        "# 3D array\r\n",
        "three_d_array = np.array([\r\n",
        "                          [[1, 2], [3, 4]], \r\n",
        "                          [[5, 6], [7, 8]]\r\n",
        "                        ])\r\n",
        "print(\"Data:\", three_d_array.data)\r\n",
        "print(\"Shape:\", three_d_array.shape)\r\n",
        "print(\"Len:\", len(three_d_array)) # no of elements in 1st dimension\r\n",
        "print(\"Dtype:\", three_d_array.dtype)\r\n",
        "print(\"Strides:\", three_d_array.strides)\r\n",
        "print(\"Array:\", three_d_array)"
      ],
      "execution_count": 6,
      "outputs": [
        {
          "output_type": "stream",
          "text": [
            "Data: <memory at 0x7f23300d4d68>\n",
            "Shape: (2, 2, 2)\n",
            "Len: 2\n",
            "Dtype: int64\n",
            "Strides: (32, 16, 8)\n",
            "Array: [[[1 2]\n",
            "  [3 4]]\n",
            "\n",
            " [[5 6]\n",
            "  [7 8]]]\n"
          ],
          "name": "stdout"
        }
      ]
    },
    {
      "cell_type": "code",
      "metadata": {
        "id": "CElJmvz8eRuD",
        "colab": {
          "base_uri": "https://localhost:8080/"
        },
        "outputId": "254ee92d-f5d5-4811-f40f-85dcb10608c8"
      },
      "source": [
        "# array of ones\r\n",
        "np.ones((3, 4))"
      ],
      "execution_count": 7,
      "outputs": [
        {
          "output_type": "execute_result",
          "data": {
            "text/plain": [
              "array([[1., 1., 1., 1.],\n",
              "       [1., 1., 1., 1.],\n",
              "       [1., 1., 1., 1.]])"
            ]
          },
          "metadata": {
            "tags": []
          },
          "execution_count": 7
        }
      ]
    },
    {
      "cell_type": "code",
      "metadata": {
        "colab": {
          "base_uri": "https://localhost:8080/"
        },
        "id": "5n9WzCFHKRJK",
        "outputId": "9f51b288-554a-4c60-c835-0e081d6bfd4b"
      },
      "source": [
        "# array of zeros\r\n",
        "np.zeros((4, 3))"
      ],
      "execution_count": 8,
      "outputs": [
        {
          "output_type": "execute_result",
          "data": {
            "text/plain": [
              "array([[0., 0., 0.],\n",
              "       [0., 0., 0.],\n",
              "       [0., 0., 0.],\n",
              "       [0., 0., 0.]])"
            ]
          },
          "metadata": {
            "tags": []
          },
          "execution_count": 8
        }
      ]
    },
    {
      "cell_type": "code",
      "metadata": {
        "colab": {
          "base_uri": "https://localhost:8080/"
        },
        "id": "WKVlTrGvKWuT",
        "outputId": "8f21a176-88e0-4524-c549-a5e79360fa08"
      },
      "source": [
        "# array of random values\r\n",
        "np.random.random((2, 2))"
      ],
      "execution_count": 10,
      "outputs": [
        {
          "output_type": "execute_result",
          "data": {
            "text/plain": [
              "array([[0.33915027, 0.75579192],\n",
              "       [0.69904379, 0.41535269]])"
            ]
          },
          "metadata": {
            "tags": []
          },
          "execution_count": 10
        }
      ]
    },
    {
      "cell_type": "code",
      "metadata": {
        "colab": {
          "base_uri": "https://localhost:8080/"
        },
        "id": "XEKMDW7HKp3j",
        "outputId": "a8a424ac-6658-4c18-948f-cde8bad07a29"
      },
      "source": [
        "# full array\r\n",
        "np.full((2,2),7) "
      ],
      "execution_count": 13,
      "outputs": [
        {
          "output_type": "execute_result",
          "data": {
            "text/plain": [
              "array([[7, 7],\n",
              "       [7, 7]])"
            ]
          },
          "metadata": {
            "tags": []
          },
          "execution_count": 13
        }
      ]
    },
    {
      "cell_type": "code",
      "metadata": {
        "colab": {
          "base_uri": "https://localhost:8080/"
        },
        "id": "3CfJ46xGK7Bt",
        "outputId": "fb1bb4b9-1108-4b2a-9b05-ede9ac858487"
      },
      "source": [
        "# evenly-spaced values \r\n",
        "print(np.arange(0,10,5))   # step of 5, excluding max value\r\n",
        "print(np.linspace(0,10,5)) # 5 evenly spaced values between 0 and 10"
      ],
      "execution_count": 26,
      "outputs": [
        {
          "output_type": "stream",
          "text": [
            "[0 5]\n",
            "[ 0.   2.5  5.   7.5 10. ]\n"
          ],
          "name": "stdout"
        }
      ]
    },
    {
      "cell_type": "code",
      "metadata": {
        "id": "5NwcSwsxLYhN"
      },
      "source": [
        ""
      ],
      "execution_count": null,
      "outputs": []
    }
  ]
}